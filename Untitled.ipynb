{
 "cells": [
  {
   "cell_type": "markdown",
   "id": "7deba396",
   "metadata": {},
   "source": [
    "# Importamos las librerías que son necesaria\n",
    "- Librería **numpy** es la que utilizamos para realizar los proceso con matrices \n",
    "- librería **pandas** fue utilizada para importar la base de datos que tenemos en un Excel \n",
    "- librería **matplotlib** se utilizó para graficar las grafica sobre el margen de error"
   ]
  },
  {
   "cell_type": "code",
   "execution_count": 1,
   "id": "40bd7061",
   "metadata": {},
   "outputs": [],
   "source": [
    "import numpy as np\n",
    "import pandas as pd\n",
    "import matplotlib.pyplot as plt"
   ]
  },
  {
   "cell_type": "markdown",
   "id": "83c04ad3",
   "metadata": {},
   "source": [
    "### Creación de la clase neurona\n",
    "#### Métodos utilizados \n",
    "- **Peso** Lo utilizamos para definir los pesos iniciales los cuales son unos pesos aleatorios que se conserva en una matriz por este motivo se pide la dimensión de la matriz (columna, nurona).\n",
    "- **Perceptron** Este método se utilizó para realizar la multiplicación de las entradas con los pesos y su respectiva suma, también nos brinda el resultado con la sigmoide \n",
    "    - calculamos los datos que utilizaremos en el sigmoide como se puede visualizar en la *formula 1* \\\n",
    "    \\\n",
    "        $ (En_1 \\times Pe_1) + (En_2 \\times Pe_2) = Ne_1 $ \\\n",
    "        $ (En_1 \\times Pe_3) + (En_2 \\times Pe_4) = Ne_2 $ \\\n",
    "        $ (En_1 \\times Pe_5) + (En_2 \\times Pe_6) = Ne_3 $ \\\n",
    "        ***formula 1***\n",
    "<br />\n",
    "<br />\n",
    "    - sacamos la sigmoide de los datos obtenidos con la funcion que se muentra en la *formula 2*, el cual sería el resultado de la neurona en la capa oculta \\\n",
    "    \\\n",
    "        $Y = \\frac{1}{1 + e^{Ne_n}}$ \\\n",
    "        ***formula 2***\n",
    "<br />\n",
    "<br />\n",
    "- **DeltaSalida** Este método lo utilizamos para sacar el **delta salida** que es una variable que se utilizara para actualizar los pesos.\n",
    "    - Lo primero que se realizara es derivar la fórmula de la sigmoide, a lo que nos queda la formula que se muestra en *formula 3* \\\n",
    "    \\\n",
    "        $ Y´ = y (1 - y) $ \\\n",
    "        ***formula 3***\n",
    "<br />\n",
    "<br />\n",
    "    - El resultado de la *fórmula 3* nos sirve para encontrar el delta salida con la *fórmula 4* \\\n",
    "    \\\n",
    "        $ Delta_salida = Error * Derivada_Sigmoide $ \\\n",
    "        ***formula 4***\n",
    "<br />\n",
    "<br />\n",
    "- **deltaCamada** Es una variable que utilizamos para encontrar los pesos de la capa oculta. \n",
    "    - Para encontrar el delta camada se necesita la *fórmula 3* y la *formula 4* después utilizamos la *fórmula 5*\\\n",
    "    \\\n",
    "        $ Delta_Camada = Derivada_Sigmoide * Peso * Delta_Salida $ \\\n",
    "        ***formula 5***\n",
    "<br />\n",
    "<br />\n",
    "- **PesoActualSalida** En este método actualizamos los peso de la entrada en la neurona de salida y se necesitan los resultados de las *fórmula 4* para poder utilizar la *fórmula 6*\n",
    "    - Para encontrar el delta camada se necesita la *fórmula 3* y la *formula 4* después utilizamos la *fórmula 5*\\\n",
    "    \\\n",
    "        $ Delta_Camada = Derivada_Sigmoide * Peso * Delta_Salida $ \\\n",
    "        ***formula 6***\n",
    "<br />\n",
    "<br />"
   ]
  },
  {
   "cell_type": "code",
   "execution_count": 2,
   "id": "2c6c1272",
   "metadata": {},
   "outputs": [],
   "source": [
    "class neurona():\n",
    "    def peso(self,columns,nurona):\n",
    "        peso = np.random.rand(columns,nurona)\n",
    "        self.p = peso\n",
    "        return self.p\n",
    "    def perceptron(self,VarEnt,peso):\n",
    "        resu = np.dot(VarEnt,peso)\n",
    "        sigm = 1/(1+ np.exp(resu))\n",
    "        return sigm\n",
    "    def deltaSalida(self,salida,error):\n",
    "        derivada = salida*(1 - salida)\n",
    "        return np.array([error * derivada]).T\n",
    "    def deltaCamada(self,delSal,capaOc,pe2):\n",
    "        derivada = capaOc*(1 - capaOc)\n",
    "        return delSal *(derivada * pe2.flatten())\n",
    "    def pesoActualSalida(self,delSal,entra,pe2):\n",
    "        resul = np.dot(delSal.T,entra)\n",
    "        return (np.dot(pe2,0.1)).flatten() + (np.dot(resul,0.3)).flatten()\n",
    "    def pesoActualEntrada(self,delCam,entra,pe1):\n",
    "        resul = np.dot(entra.T,delCam)\n",
    "        return (np.dot(pe1,0.1)) + (np.dot(resul,0.3))"
   ]
  },
  {
   "cell_type": "code",
   "execution_count": null,
   "id": "a2ffd185",
   "metadata": {},
   "outputs": [],
   "source": []
  }
 ],
 "metadata": {
  "kernelspec": {
   "display_name": "Python 3 (ipykernel)",
   "language": "python",
   "name": "python3"
  },
  "language_info": {
   "codemirror_mode": {
    "name": "ipython",
    "version": 3
   },
   "file_extension": ".py",
   "mimetype": "text/x-python",
   "name": "python",
   "nbconvert_exporter": "python",
   "pygments_lexer": "ipython3",
   "version": "3.9.7"
  }
 },
 "nbformat": 4,
 "nbformat_minor": 5
}
