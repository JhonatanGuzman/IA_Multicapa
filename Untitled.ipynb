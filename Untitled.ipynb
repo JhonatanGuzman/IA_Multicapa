{
 "cells": [
  {
   "cell_type": "markdown",
   "id": "7deba396",
   "metadata": {},
   "source": [
    "# Importamos las librerías que son necesaria\n",
    "- Librería **numpy** es la que utilizamos para realizar los proceso con matrices \n",
    "- librería **pandas** fue utilizada para importar la base de datos que tenemos en un Excel \n",
    "- librería **matplotlib** se utilizó para graficar las grafica sobre el margen de error"
   ]
  },
  {
   "cell_type": "code",
   "execution_count": 3,
   "id": "40bd7061",
   "metadata": {},
   "outputs": [],
   "source": [
    "import numpy as np\n",
    "import pandas as pd\n",
    "import matplotlib.pyplot as plt"
   ]
  },
  {
   "cell_type": "markdown",
   "id": "83c04ad3",
   "metadata": {},
   "source": [
    "### Creación de la clase neurona\n",
    "#### Métodos utilizados \n",
    "- **Peso** Lo utilizamos para definir los pesos iniciales los cuales son unos pesos aleatorios que se conserva en una matriz por este motivo se pide la dimensión de la matriz (columna, nurona).\n",
    "- **Perceptron** Este método se utilizó para realizar la multiplicación de las entradas con los pesos y su respectiva suma, también nos brinda el resultado con la sigmoide \n",
    "    - calculamos los datos que utilizaremos en el sigmoide como se puede visualizar en la *formula 1* \\\n",
    "    \\\n",
    "        $ (En_1 \\times Pe_1) + (En_2 \\times Pe_2) = Ne_1 $ \\\n",
    "        $ (En_1 \\times Pe_3) + (En_2 \\times Pe_4) = Ne_2 $ \\\n",
    "        $ (En_1 \\times Pe_5) + (En_2 \\times Pe_6) = Ne_3 $ \\\n",
    "        ***formula 1***\n",
    "\\\n",
    "\\\n",
    "    - sacamos la sigmoide de los datos obtenidos con la funcion que se muentra en la *formula 2*, el cual sería el resultado de la neurona en la capa oculta \\\n",
    "    \\\n",
    "        $Y = \\frac{1}{1 + e^{Ne_n}}$ \\\n",
    "        ***formula 2***\n",
    "\\\n",
    "\\\n",
    "- **DeltaSalida** Este método lo utilizamos para sacar el **delta salida** que es una variable que se utilizara para actualizar los pesos.\n",
    "    - Lo primero que se realizara es derivar la fórmula de la sigmoide, a lo que nos queda la formula que se muestra en *formula 3* \\\n",
    "    \\\n",
    "        $ Y´ = y (1 - y) $ \\\n",
    "        ***formula 3***\n",
    "\\\n",
    "\\\n",
    "    - El resultado de la *fórmula 3* nos sirve para encontrar el delta salida con la *fórmula 4* \\\n",
    "    \\\n",
    "        $ Delta_salida = Error * Derivada_Sigmoide $ \\\n",
    "        ***formula 4***\n",
    "\\\n",
    "\\\n",
    "- **deltaCamada** Es una variable que utilizamos para encontrar los pesos de la capa oculta. \n",
    "    - Para encontrar el delta camada se necesita la *fórmula 3* y la *formula 4* después utilizamos la *fórmula 5* \\\n",
    "    \\\n",
    "        $ Delta_Camada = Derivada_Sigmoide * Peso * Delta_Salida $ \\\n",
    "        ***formula 5***\n",
    "\\\n",
    "\\\n",
    "- **PesoActualSalida** En este método actualizamos los peso de la entrada en la neurona de salida y se necesitan los resultados de las *fórmula 4* para poder utilizar la *fórmula 6*\n",
    "    - Para encontrar el delta camada se necesita la *fórmula 3* y la *formula 4* después utilizamos la *fórmula 5* \\\n",
    "    \\\n",
    "        $ PesoActua = (peso*momento) + (Entrada* Delta * TazaDePrendizaje) $ \\\n",
    "        ***formula 6***\n",
    "\\\n",
    "\\\n",
    "    - El momento es un dato estático con un valor de 1 y la taza de aprendizaje lo manejamos de 0.3"
   ]
  },
  {
   "cell_type": "code",
   "execution_count": 4,
   "id": "2c6c1272",
   "metadata": {},
   "outputs": [],
   "source": [
    "class neurona():\n",
    "    def peso(self,columns,nurona):\n",
    "        peso = np.random.rand(columns,nurona)\n",
    "        self.p = peso\n",
    "        return self.p\n",
    "    def perceptron(self,VarEnt,peso):\n",
    "        resu = np.dot(VarEnt,peso)\n",
    "        sigm = 1/(1+ np.exp(resu))\n",
    "        return sigm\n",
    "    def deltaSalida(self,salida,error):\n",
    "        derivada = salida*(1 - salida)\n",
    "        return np.array([error * derivada]).T\n",
    "    def deltaCamada(self,delSal,capaOc,pe2):\n",
    "        derivada = capaOc*(1 - capaOc)\n",
    "        return delSal *(derivada * pe2.flatten())\n",
    "    def pesoActual(self,delSal,entra,pe2):\n",
    "        resul = np.dot(entra.T,delSal)\n",
    "        return (np.dot(pe2,1)) + (np.dot(resul,0.3))"
   ]
  },
  {
   "cell_type": "markdown",
   "id": "315d456c",
   "metadata": {},
   "source": [
    "#### Importar base de datos \n",
    "Para la importación de la base de datos utilizamos la librería Pandas, la cual nos permite el ingreso de datos en diferentes formatos, nosotros utilizamos un formato de tipo Excel.  \n",
    "###### Definición de variables \n",
    "- ne = la estancia que utilizamos para llamar la clase neurona donde tenemos los métodos.\n",
    "- df = es la iniciares para data frame que es donde vamos a almacenar nuestros datos\n",
    "- VarObj = este define la variable objetiva que nos brindan.\n",
    "- VarEnt = aquí se conserva las variables de entrada junto con el BIAS.\n",
    "- pe1 = es el nombre que tiene los peso de la capa oculta \n",
    "- pe2 = es el nombre que le brindamos los peso para la salida\n",
    "- capaOc = en esta variable se almacena el resultado de la neurona en la capa oculta \n",
    "- capaOc2 = en esta variable se almacena el resultado de salida.\n",
    "- error1 = en esta variable se obtiene el resultado del error "
   ]
  },
  {
   "cell_type": "code",
   "execution_count": null,
   "id": "5bc5f6f5",
   "metadata": {},
   "outputs": [],
   "source": []
  },
  {
   "cell_type": "code",
   "execution_count": 5,
   "id": "56cefdd3",
   "metadata": {},
   "outputs": [],
   "source": [
    "if \"__main__\"==__name__:\n",
    "    ne = neurona() #* la clase previamente creada\n",
    "    df = pd.read_excel(\"D:/base_de_datos.xlsx\")  #* importamos la base de datos "
   ]
  },
  {
   "cell_type": "markdown",
   "id": "6dd70d3d",
   "metadata": {},
   "source": [
    "- Una vez importamos la base de datos en la cual ya se encuentra el BIAS, sacamos el valor deseado el cual definimos con (y), y convertimos tanto la entrada como el valor objetivo en matrices. \n",
    "- también creamos los peso con números aleatorio llamando el método peso que se encuentra en la clase. "
   ]
  },
  {
   "cell_type": "code",
   "execution_count": 6,
   "id": "213f8d0f",
   "metadata": {},
   "outputs": [],
   "source": [
    "    VarObj = np.asarray(df.pop(\"y\")) #* la variable objetivo\n",
    "    VarEnt = np.asarray(df) #* variables de entrada\n",
    "    rows, columns = VarEnt.shape\n",
    "    pe1 = ne.peso(columns,3)\n",
    "    pe2 = ne.peso(4,1)\n",
    "    con = 0\n",
    "    capaOc2 = 0\n",
    "    boo = True"
   ]
  },
  {
   "cell_type": "markdown",
   "id": "fdd2b9a4",
   "metadata": {},
   "source": [
    "- como paso final creamos el ciclo para entrenar la neurona."
   ]
  },
  {
   "cell_type": "code",
   "execution_count": 7,
   "id": "9cd75b47",
   "metadata": {},
   "outputs": [],
   "source": [
    "while con <=20:\n",
    "        capaOc = ne.perceptron(VarEnt,pe1)\n",
    "        capaOc = ne.perceptron(VarEnt,pe1)\n",
    "        capaOc = np.c_[capaOc,[[1],[1],[1],[1],[1],[1],[1],[1],[1],[1],[1],[1],[1],[1],[1],[1],[1],[1],[1],[1]]]\n",
    "        capaOc2 = ne.perceptron(capaOc,pe2)\n",
    "        error1 = ( VarObj - np.abs(capaOc2.flatten()))\n",
    "        delSal = ne.deltaSalida(capaOc2.flatten(),error1)\n",
    "        delCam = ne.deltaCamada(delSal,capaOc,pe2)\n",
    "        rows3, columns3 = delCam.shape\n",
    "        delCam = np.delete(delCam,columns3-1,axis=1)\n",
    "        pe1 = ne.pesoActual(delCam,VarEnt,pe1)\n",
    "        pe2 = ne.pesoActual(delSal,capaOc,pe2)\n",
    "        if boo:\n",
    "            error = np.asarray(error1)\n",
    "            capaOc3 = np.asarray(capaOc2)\n",
    "            error2 = error1\n",
    "            boo = False\n",
    "        else:\n",
    "            error = np.c_[error,error1]\n",
    "            capaOc3 = np.c_[capaOc3,capaOc2]\n",
    "        con=con+1"
   ]
  },
  {
   "cell_type": "markdown",
   "id": "9890a9d5",
   "metadata": {},
   "source": [
    "- ahora queremos mostrar los resultados en una data frame con pandas y llevar un mejor orden de la información"
   ]
  },
  {
   "cell_type": "code",
   "execution_count": 8,
   "id": "33613424",
   "metadata": {},
   "outputs": [
    {
     "name": "stdout",
     "output_type": "stream",
     "text": [
      "    x1  x2  x3  x4   delCam1   delCam2   delCam3    delSal    Salida\n",
      "0    1   0   0   1  0.000305  0.000340  0.000565  0.003603  0.003630\n",
      "1    1   1   0   1  0.000256  0.000258  0.000362  0.004555  0.004597\n",
      "2    1   2   0   1  0.000165  0.000147  0.000167  0.005140  0.005193\n",
      "3    2   1   0   1  0.000219  0.000160  0.000284  0.004894  0.004943\n",
      "4    2   2   0   1  0.000129  0.000081  0.000121  0.005316  0.005374\n",
      "5    2   1   1   1  0.000315  0.000146  0.000286  0.010563  0.005324\n",
      "6    2   2   1   1  0.000170  0.000067  0.000110  0.011012  0.005552\n",
      "7    2   2   2   1  0.000107  0.000027  0.000048  0.011185  0.005640\n",
      "8    2   2   3   1  0.000066  0.000010  0.000021  0.011272  0.005684\n",
      "9    3   1   0   1  0.000178  0.000091  0.000213  0.005135  0.005188\n",
      "10   3   2   0   1  0.000099  0.000043  0.000086  0.005432  0.005492\n",
      "11   3   1   1   1  0.000244  0.000077  0.000204  0.010818  0.005453\n",
      "12   3   2   1   1  0.000127  0.000034  0.000077  0.011128  0.005611\n",
      "13   3   2   2   1  0.000079  0.000013  0.000033  0.011243  0.005670\n",
      "14   3   3   2   1  0.000038  0.000006  0.000012  0.011314  0.005706\n",
      "15   4   1   0   1  0.000140  0.000049  0.000155  0.005300  0.005358\n",
      "16   4   2   0   1  0.000075  0.000022  0.000060  0.005508  0.005570\n",
      "17   4   3   0   1  0.000037  0.000010  0.000022  0.005599  0.005663\n",
      "18   4   3   1   1  0.000046  0.000008  0.000019  0.011297  0.005697\n",
      "19   4   3   2   1  0.000028  0.000003  0.000008  0.011331  0.005714\n"
     ]
    }
   ],
   "source": [
    "    deltacam = pd.DataFrame(delCam, columns = [\"delCam1\", \"delCam2\",\"delCam3\"])\n",
    "    df = pd.concat([df,deltacam],axis=1)\n",
    "    \n",
    "    deltasal = pd.DataFrame(delSal, columns = [\"delSal\"])\n",
    "    df = pd.concat([df,deltasal],axis=1)\n",
    "    \n",
    "    sal = pd.DataFrame(capaOc2, columns = [\"Salida\"])\n",
    "    df = pd.concat([df,sal],axis=1)\n",
    "    \n",
    "    print(df)"
   ]
  },
  {
   "cell_type": "markdown",
   "id": "8c110984",
   "metadata": {},
   "source": [
    "- por último graficamos el error obtenido con matplotlib"
   ]
  },
  {
   "cell_type": "code",
   "execution_count": 9,
   "id": "f1fbc860",
   "metadata": {},
   "outputs": [
    {
     "data": {
      "image/png": "[encoded data removed]",
      "text/plain": [
       "<Figure size 432x288 with 1 Axes>"
      ]
     },
     "metadata": {
      "needs_background": "light"
     },
     "output_type": "display_data"
    }
   ],
   "source": [
    "    rows1, columns1 = error.shape\n",
    "    x = np.arange(1,columns1+1) \n",
    "    plt.plot(x, error[0],'-')\n",
    "    plt.show()"
   ]
  }
 ],
 "metadata": {
  "kernelspec": {
   "display_name": "Python 3 (ipykernel)",
   "language": "python",
   "name": "python3"
  },
  "language_info": {
   "codemirror_mode": {
    "name": "ipython",
    "version": 3
   },
   "file_extension": ".py",
   "mimetype": "text/x-python",
   "name": "python",
   "nbconvert_exporter": "python",
   "pygments_lexer": "ipython3",
   "version": "3.9.7"
  }
 },
 "nbformat": 4,
 "nbformat_minor": 5
}
